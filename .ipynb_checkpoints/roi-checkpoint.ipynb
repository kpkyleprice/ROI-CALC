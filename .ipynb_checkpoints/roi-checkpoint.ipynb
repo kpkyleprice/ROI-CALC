{
 "cells": [
  {
   "cell_type": "code",
   "execution_count": null,
   "id": "7b496d69",
   "metadata": {},
   "outputs": [
    {
     "name": "stdout",
     "output_type": "stream",
     "text": [
      "How much is your monthly rental income? ($)3000\n",
      "How much is your monthly laundry income? ($)50\n",
      "How much are is monthly storage location revenue? ($)0\n",
      "How much is your additional monthly income: ($)0\n",
      "How much are your monthly property tax expenses? ($)200\n",
      "How much are your monthly insurance expenses? ($)200\n",
      "How much are your monthly utilities expenses? ($)400\n",
      "How much are your monthly HOA fees? ($)100\n",
      "How much are your expected monthly vacancy fees? ($)150\n",
      "How much are your expected monthly landscaping fees ($)200\n",
      "How much are your monthly maintenance fees? ($)400\n",
      "How much are your monthly property management expenses? ($) 600\n",
      "How much are your monthly capital expenditures? ($)100\n",
      "How much are your monthly mortgage payments? ($)350\n",
      "How much is your down payment? ($)700\n",
      "What are your closing costs? ($)200\n",
      "What is your renovation budget? ($)300\n",
      "What are your other investment expenses? ($)200\n",
      "Your ROI is: 300.0 %\n"
     ]
    }
   ],
   "source": [
    "class Roi():\n",
    "    def __init__(self):\n",
    "        self.value = []\n",
    "        Roi.income(self)\n",
    "    def income(self):\n",
    "        ri = input(\"How much is your monthly rental income? ($)\")\n",
    "        self.value.append(int(ri))\n",
    "        la = input(\"How much is your monthly laundry income? ($)\")\n",
    "        self.value.append(int(la))\n",
    "        st = input(\"How much are is monthly storage location revenue? ($)\")\n",
    "        self.value.append(int(st))\n",
    "        ms = input(\"How much is your additional monthly income: ($)\")\n",
    "        self.value.append(int(ms))\n",
    "        Roi.expenses(self)\n",
    "    def expenses(self):\n",
    "        taxes = input(\"How much are your monthly property tax expenses? ($)\")\n",
    "        self.value.append(float(taxes))\n",
    "        insurance = input(\"How much are your monthly insurance expenses? ($)\")\n",
    "        self.value.append(float(insurance))\n",
    "        utility = input(\"How much are your monthly utilities expenses? ($)\")\n",
    "        self.value.append(float(utility))\n",
    "        HOA = input(\"How much are your monthly HOA fees? ($)\")\n",
    "        self.value.append(float(HOA))\n",
    "        vacancy = input(\"How much are your expected monthly vacancy fees? ($)\")\n",
    "        self.value.append(float(vacancy))\n",
    "        landscaping = input(\"How much are your expected monthly landscaping fees ($)\")\n",
    "        self.value.append(float(landscaping))\n",
    "        repair = input(\"How much are your monthly maintenance fees? ($)\")\n",
    "        self.value.append(float(repair))\n",
    "        management = input(\"How much are your monthly property management expenses? ($) \")\n",
    "        self.value.append(float(management))\n",
    "        cap = input(\"How much are your monthly capital expenditures? ($)\")\n",
    "        self.value.append(float(cap))\n",
    "        mortg = input(\"How much are your monthly mortgage payments? ($)\")\n",
    "        self.value.append(float(mortg))\n",
    "        Roi.COC_roi(self)\n",
    "    def COC_roi(self):\n",
    "        down = input(\"How much is your down payment? ($)\")\n",
    "        self.value.append(int(down))\n",
    "        closing = input(\"What are your closing costs? ($)\")\n",
    "        self.value.append(int(closing))\n",
    "        renovations = input(\"What is your renovation budget? ($)\")\n",
    "        self.value.append(int(renovations))\n",
    "        misc = input(\"What are your other investment expenses? ($)\")\n",
    "        self.value.append(int(misc))\n",
    "        u = 0\n",
    "        v= 0\n",
    "        for x in range(len(self.value)):\n",
    "            if x <= 3:\n",
    "                u += self.value[x]\n",
    "            elif x<=13:\n",
    "                u -= self.value[x]\n",
    "            elif x == 14:\n",
    "                u = u*12\n",
    "                v += self.value[x]\n",
    "            else:\n",
    "                v += self.value[x]\n",
    "        print(\"Your ROI is:\", 100*(u/v), \"%\")\n",
    "r = Roi()\n",
    "r.__init__()"
   ]
  },
  {
   "cell_type": "code",
   "execution_count": null,
   "id": "5cda7be7",
   "metadata": {},
   "outputs": [],
   "source": []
  }
 ],
 "metadata": {
  "kernelspec": {
   "display_name": "Python 3 (ipykernel)",
   "language": "python",
   "name": "python3"
  },
  "language_info": {
   "codemirror_mode": {
    "name": "ipython",
    "version": 3
   },
   "file_extension": ".py",
   "mimetype": "text/x-python",
   "name": "python",
   "nbconvert_exporter": "python",
   "pygments_lexer": "ipython3",
   "version": "3.9.13"
  }
 },
 "nbformat": 4,
 "nbformat_minor": 5
}
